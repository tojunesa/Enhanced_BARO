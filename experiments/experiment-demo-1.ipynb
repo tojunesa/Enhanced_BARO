{
 "cells": [
  {
   "cell_type": "code",
   "execution_count": 10,
   "id": "aa626ac2-736e-455e-a721-ac87281b2b53",
   "metadata": {},
   "outputs": [
    {
     "name": "stdout",
     "output_type": "stream",
     "text": [
      "\n",
      "--- Percentage Difference of Avg@5 Metrics (Ours vs Baseline) ---\n",
      "\n",
      "               CPU      MEM     DISK   SOCKET    DELAY      LOSS      Avg\n",
      "Dataset                                                                  \n",
      "re2-ob     4.17% ↑  2.20% ↑  1.15% ↑  1.33% ↑  0.00% →   0.00% →  1.48% ↑\n",
      "re2-ss     2.78% ↑  4.49% ↑  2.33% ↑  4.11% ↑  1.52% ↑   1.33% ↑  2.76% ↑\n",
      "re2-tt     6.85% ↑  2.17% ↑  0.00% →  0.00% →  1.49% ↑  -2.63% ↓  1.31% ↑\n",
      "Total Avg  4.60% ↑  2.95% ↑  1.16% ↑  1.81% ↑  1.00% ↑  -0.43% ↓  1.85% ↑\n"
     ]
    }
   ],
   "source": [
    "import pandas as pd\n",
    "\n",
    "# Data before modifying baro.py (including re2-tt)\n",
    "before_data = {\n",
    "    \"Dataset\": [\"re2-ob\", \"re2-ss\", \"re2-tt\"],\n",
    "    \"CPU\": [0.75, 0.74, 0.78],\n",
    "    \"MEM\": [0.93, 0.93, 0.94],\n",
    "    \"DISK\": [0.88, 0.88, 0.88],\n",
    "    \"SOCKET\": [0.76, 0.76, 0.76],\n",
    "    \"DELAY\": [0.67, 0.67, 0.68],\n",
    "    \"LOSS\": [0.75, 0.76, 0.74],\n",
    "}\n",
    "\n",
    "# Data after modifying baro.py (including re2-tt)\n",
    "after_data = {\n",
    "    \"Dataset\": [\"re2-ob\", \"re2-ss\", \"re2-tt\"],\n",
    "    \"CPU\": [0.72, 0.72, 0.73],\n",
    "    \"MEM\": [0.91, 0.89, 0.92],\n",
    "    \"DISK\": [0.87, 0.86, 0.88],\n",
    "    \"SOCKET\": [0.75, 0.73, 0.76],\n",
    "    \"DELAY\": [0.67, 0.66, 0.67],\n",
    "    \"LOSS\": [0.75, 0.75, 0.76],\n",
    "}\n",
    "\n",
    "# Convert to DataFrame\n",
    "df_before = pd.DataFrame(before_data).set_index(\"Dataset\")\n",
    "df_after = pd.DataFrame(after_data).set_index(\"Dataset\")\n",
    "\n",
    "# Corrected percentage difference calculation\n",
    "df_diff_percent = ((df_before - df_after) / df_after * 100).round(2)\n",
    "\n",
    "# Calculate the average difference for each dataset (row-wise mean)\n",
    "df_diff_percent[\"Avg\"] = df_diff_percent.mean(axis=1).round(2)\n",
    "\n",
    "# Calculate the overall average difference across all datasets (column-wise mean)\n",
    "total_avg = df_diff_percent.mean().round(2)\n",
    "\n",
    "# Append the total average as a new row\n",
    "df_diff_percent.loc[\"Total Avg\"] = total_avg\n",
    "\n",
    "# Convert back to percentage format for display using `.map()`\n",
    "df_percent_final = df_diff_percent.map(lambda x: f\"{x:.2f}%\")\n",
    "\n",
    "# Define a function to add arrows based on positive or negative values\n",
    "def add_arrow(value):\n",
    "    num = float(value.replace('%', ''))  # Convert to float\n",
    "    if num > 0:\n",
    "        return f\"{value} ↑\"  # Red up arrow for positive values\n",
    "    elif num < 0:\n",
    "        return f\"{value} ↓\"  # Green down arrow for negative values\n",
    "    else:\n",
    "        return f\"{value} →\"  # No arrow for zero\n",
    "\n",
    "# Apply the function to the dataframe using `.map()`\n",
    "df_percent_final_arrows = df_percent_final.map(add_arrow)\n",
    "\n",
    "# Print the final percentage table\n",
    "print(\"\\n--- Percentage Difference of Avg@5 Metrics (Ours vs Baseline) ---\\n\")\n",
    "print(df_percent_final_arrows)\n"
   ]
  },
  {
   "cell_type": "code",
   "execution_count": null,
   "id": "3a908eb6-d656-40df-80e0-a6432a83ba29",
   "metadata": {},
   "outputs": [],
   "source": []
  }
 ],
 "metadata": {
  "kernelspec": {
   "display_name": "Python 3 (ipykernel)",
   "language": "python",
   "name": "python3"
  },
  "language_info": {
   "codemirror_mode": {
    "name": "ipython",
    "version": 3
   },
   "file_extension": ".py",
   "mimetype": "text/x-python",
   "name": "python",
   "nbconvert_exporter": "python",
   "pygments_lexer": "ipython3",
   "version": "3.11.4"
  }
 },
 "nbformat": 4,
 "nbformat_minor": 5
}
